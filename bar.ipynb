{
 "cells": [
  {
   "cell_type": "markdown",
   "id": "voluntary-threshold",
   "metadata": {},
   "source": [
    "# DSM (bar)"
   ]
  },
  {
   "cell_type": "code",
   "execution_count": 1,
   "id": "combined-tucson",
   "metadata": {},
   "outputs": [
    {
     "name": "stdout",
     "output_type": "stream",
     "text": [
      "[0.79365079 1.58730159 2.38095238]\n"
     ]
    },
    {
     "data": {
      "image/png": "[encoded data removed]",
      "text/plain": [
       "<Figure size 432x288 with 1 Axes>"
      ]
     },
     "metadata": {
      "needs_background": "light"
     },
     "output_type": "display_data"
    }
   ],
   "source": [
    "\n",
    "import sympy\n",
    "import numpy\n",
    "import matplotlib.pyplot as plt\n",
    "from sympy import sin, cos, tan, diff, solve\n",
    "\n",
    "class bar:\n",
    "  \n",
    "    def __init__(self,l,E,A,P,n):\n",
    "        #here are the input parameters\n",
    "        self.l = l\n",
    "        self.E = E\n",
    "        self.A = A\n",
    "        self.P = P\n",
    "        self.n = n\n",
    "        \n",
    "    def Calculate_ke(self):\n",
    "        self.le = self.l/self.n\n",
    "        self.ke = numpy.zeros((2,2))                 \n",
    "        self.ke[0,0] = self.E*self.A/self.le\n",
    "        self.ke[0,1] = -self.E*self.A/self.le\n",
    "        self.ke[1,0] = -self.E*self.A/self.le        \n",
    "        self.ke[1,1] =  self.E*self.A/self.le         \n",
    "        return self.ke\n",
    "    \n",
    "    def Calculate_K(self):\n",
    "        self.Calculate_ke()\n",
    "        self.K = numpy.zeros((self.n + 1,self.n + 1))        \n",
    "        # loading Id matrix\n",
    "        Id = numpy.zeros((3,2))           \n",
    "        Id[0,0] = 0;         Id[0,1] = 1 # element 1\n",
    "        Id[1,0] = 1;         Id[1,1] = 2 # element 2\n",
    "        Id[2,0] = 2;         Id[2,1] = 3 # element 3\n",
    "\n",
    "        \n",
    "        for i in range(self.n):\n",
    "            for j in range(2):\n",
    "                for k in range(2):\n",
    "                    # l = Id[i,j]\n",
    "                    # m = Id[i,k]   \n",
    "                     self.K[int(Id[i,j]),int(Id[i,k])] = + self.ke[j,k]  + self.K[int(Id[i,j]),int(Id[i,k])] #\n",
    "\n",
    "        return self.K  \n",
    "    \n",
    "    def Define_Load_Vector(self):\n",
    "        # global load vector\n",
    "        self.F = numpy.zeros(self.n) \n",
    "        self.F[self.n-1] = 5000        \n",
    "        return self.F\n",
    "    \n",
    "    def Calculate_Kred(self):\n",
    "        row_red = 0\n",
    "        self.Id_const = numpy.zeros(self.n + 1)\n",
    "        # if dof is fixed insert 1\n",
    "        self.Id_const[0] = 1\n",
    "        size_Kred = self.n+1 - numpy.count_nonzero(self.Id_const)\n",
    "        self.Kred = numpy.zeros((size_Kred,size_Kred))   \n",
    "        for i in range(self.n+1):\n",
    "            col_red = 0\n",
    "            for j in range(self.n+1): \n",
    "                if(self.Id_const[i]!=1 and self.Id_const[j]!=1):                    \n",
    "                    self.Kred[row_red,col_red] = self.K[i,j]\n",
    "                if(self.Id_const[j]!=1):  \n",
    "                     col_red = col_red + 1   \n",
    "            if(self.Id_const[i]!=1):                    \n",
    "                     row_red = row_red + 1            \n",
    "        return self.Kred            \n",
    "                \n",
    "    def Solve_System(self):\n",
    "        self.u = numpy.dot(numpy.linalg.inv(self.Kred),self.F)\n",
    "        return self.u\n",
    "\n",
    "    def Update_positions(self):\n",
    "        disp_const = 0\n",
    "        self.x0 = numpy.zeros(self.n + 1)\n",
    "        self.xupd = numpy.zeros(self.n + 1)\n",
    "        \n",
    "        for j in range(self.n+1): \n",
    "            self.x0[j] = self.le*j\n",
    "            self.xupd[j] = self.x0[j]\n",
    "            if(self.Id_const[j]!=1):  \n",
    "                self.xupd[j] = self.xupd[j] + self.u[disp_const]                    \n",
    "                disp_const = disp_const + 1\n",
    "        return self.x0, self.xupd     \n",
    "\n",
    "    \n",
    "    def Plot_displacements(self):\n",
    "        # plots original and deformed bar lengths\n",
    "        plt.ylim(0.5,1.1)\n",
    "        y = [1] * (self.n + 1)\n",
    "        yupd = [1.05] * (self.n + 1)        \n",
    "        plt.plot(self.x0,y,label=\"Original bar\",marker=8)\n",
    "        plt.plot(self.xupd,yupd, label=\"Stressed bar\",marker=8)\n",
    "        plt.legend(loc=\"lower right\")\n",
    "    \n",
    "        \n",
    "def main():\n",
    "  bar_1D = bar(3,210e5,0.0003,2000,3)  \n",
    "  bar_1D.Calculate_K()\n",
    "  bar_1D.Define_Load_Vector()    \n",
    "  bar_1D.Calculate_Kred()\n",
    "  print(bar_1D.Solve_System())\n",
    "  bar_1D.Update_positions()\n",
    "  bar_1D.Plot_displacements()  \n",
    "if __name__ == '__main__':\n",
    "    main()    "
   ]
  },
  {
   "cell_type": "code",
   "execution_count": null,
   "id": "equal-expression",
   "metadata": {},
   "outputs": [],
   "source": []
  },
  {
   "cell_type": "code",
   "execution_count": null,
   "id": "taken-nylon",
   "metadata": {},
   "outputs": [],
   "source": []
  },
  {
   "cell_type": "code",
   "execution_count": null,
   "id": "useful-westminster",
   "metadata": {},
   "outputs": [],
   "source": []
  },
  {
   "cell_type": "code",
   "execution_count": null,
   "id": "decimal-giant",
   "metadata": {},
   "outputs": [],
   "source": []
  },
  {
   "cell_type": "code",
   "execution_count": null,
   "id": "standing-president",
   "metadata": {},
   "outputs": [],
   "source": []
  },
  {
   "cell_type": "code",
   "execution_count": null,
   "id": "institutional-manufacturer",
   "metadata": {},
   "outputs": [],
   "source": []
  },
  {
   "cell_type": "code",
   "execution_count": null,
   "id": "through-mention",
   "metadata": {},
   "outputs": [],
   "source": []
  },
  {
   "cell_type": "code",
   "execution_count": null,
   "id": "colored-vatican",
   "metadata": {},
   "outputs": [],
   "source": []
  }
 ],
 "metadata": {
  "kernelspec": {
   "display_name": "Python 3",
   "language": "python",
   "name": "python3"
  },
  "language_info": {
   "codemirror_mode": {
    "name": "ipython",
    "version": 3
   },
   "file_extension": ".py",
   "mimetype": "text/x-python",
   "name": "python",
   "nbconvert_exporter": "python",
   "pygments_lexer": "ipython3",
   "version": "3.9.5"
  }
 },
 "nbformat": 4,
 "nbformat_minor": 5
}
