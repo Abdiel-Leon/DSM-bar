{
 "cells": [
  {
   "cell_type": "markdown",
   "id": "voluntary-threshold",
   "metadata": {},
   "source": [
    "# DSM (bar)"
   ]
  },
  {
   "cell_type": "code",
   "execution_count": 10,
   "id": "combined-tucson",
   "metadata": {},
   "outputs": [
    {
     "ename": "IndexError",
     "evalue": "index 3 is out of bounds for axis 0 with size 3",
     "output_type": "error",
     "traceback": [
      "\u001b[0;31m---------------------------------------------------------------------------\u001b[0m",
      "\u001b[0;31mIndexError\u001b[0m                                Traceback (most recent call last)",
      "\u001b[0;32m<ipython-input-10-00ed7c8d7c54>\u001b[0m in \u001b[0;36m<module>\u001b[0;34m\u001b[0m\n\u001b[1;32m     85\u001b[0m   \u001b[0mprint\u001b[0m\u001b[0;34m(\u001b[0m\u001b[0mbar_1D\u001b[0m\u001b[0;34m.\u001b[0m\u001b[0mUpdate_positions\u001b[0m\u001b[0;34m(\u001b[0m\u001b[0;34m)\u001b[0m\u001b[0;34m)\u001b[0m\u001b[0;34m\u001b[0m\u001b[0;34m\u001b[0m\u001b[0m\n\u001b[1;32m     86\u001b[0m \u001b[0;32mif\u001b[0m \u001b[0m__name__\u001b[0m \u001b[0;34m==\u001b[0m \u001b[0;34m'__main__'\u001b[0m\u001b[0;34m:\u001b[0m\u001b[0;34m\u001b[0m\u001b[0;34m\u001b[0m\u001b[0m\n\u001b[0;32m---> 87\u001b[0;31m     \u001b[0mmain\u001b[0m\u001b[0;34m(\u001b[0m\u001b[0;34m)\u001b[0m\u001b[0;34m\u001b[0m\u001b[0;34m\u001b[0m\u001b[0m\n\u001b[0m",
      "\u001b[0;32m<ipython-input-10-00ed7c8d7c54>\u001b[0m in \u001b[0;36mmain\u001b[0;34m()\u001b[0m\n\u001b[1;32m     83\u001b[0m   \u001b[0mbar_1D\u001b[0m\u001b[0;34m.\u001b[0m\u001b[0mCalculate_Kred\u001b[0m\u001b[0;34m(\u001b[0m\u001b[0;34m)\u001b[0m\u001b[0;34m\u001b[0m\u001b[0;34m\u001b[0m\u001b[0m\n\u001b[1;32m     84\u001b[0m   \u001b[0mbar_1D\u001b[0m\u001b[0;34m.\u001b[0m\u001b[0mSolve_System\u001b[0m\u001b[0;34m(\u001b[0m\u001b[0;34m)\u001b[0m\u001b[0;34m\u001b[0m\u001b[0;34m\u001b[0m\u001b[0m\n\u001b[0;32m---> 85\u001b[0;31m   \u001b[0mprint\u001b[0m\u001b[0;34m(\u001b[0m\u001b[0mbar_1D\u001b[0m\u001b[0;34m.\u001b[0m\u001b[0mUpdate_positions\u001b[0m\u001b[0;34m(\u001b[0m\u001b[0;34m)\u001b[0m\u001b[0;34m)\u001b[0m\u001b[0;34m\u001b[0m\u001b[0;34m\u001b[0m\u001b[0m\n\u001b[0m\u001b[1;32m     86\u001b[0m \u001b[0;32mif\u001b[0m \u001b[0m__name__\u001b[0m \u001b[0;34m==\u001b[0m \u001b[0;34m'__main__'\u001b[0m\u001b[0;34m:\u001b[0m\u001b[0;34m\u001b[0m\u001b[0;34m\u001b[0m\u001b[0m\n\u001b[1;32m     87\u001b[0m     \u001b[0mmain\u001b[0m\u001b[0;34m(\u001b[0m\u001b[0;34m)\u001b[0m\u001b[0;34m\u001b[0m\u001b[0;34m\u001b[0m\u001b[0m\n",
      "\u001b[0;32m<ipython-input-10-00ed7c8d7c54>\u001b[0m in \u001b[0;36mUpdate_positions\u001b[0;34m(self)\u001b[0m\n\u001b[1;32m     74\u001b[0m         \u001b[0;32mfor\u001b[0m \u001b[0mj\u001b[0m \u001b[0;32min\u001b[0m \u001b[0mrange\u001b[0m\u001b[0;34m(\u001b[0m\u001b[0mself\u001b[0m\u001b[0;34m.\u001b[0m\u001b[0mn\u001b[0m\u001b[0;34m+\u001b[0m\u001b[0;36m1\u001b[0m\u001b[0;34m)\u001b[0m\u001b[0;34m:\u001b[0m\u001b[0;34m\u001b[0m\u001b[0;34m\u001b[0m\u001b[0m\n\u001b[1;32m     75\u001b[0m             \u001b[0mself\u001b[0m\u001b[0;34m.\u001b[0m\u001b[0mx0\u001b[0m\u001b[0;34m[\u001b[0m\u001b[0mj\u001b[0m\u001b[0;34m]\u001b[0m \u001b[0;34m=\u001b[0m \u001b[0mself\u001b[0m\u001b[0;34m.\u001b[0m\u001b[0mle\u001b[0m\u001b[0;34m*\u001b[0m\u001b[0mj\u001b[0m\u001b[0;34m\u001b[0m\u001b[0;34m\u001b[0m\u001b[0m\n\u001b[0;32m---> 76\u001b[0;31m             \u001b[0mself\u001b[0m\u001b[0;34m.\u001b[0m\u001b[0mxupd\u001b[0m\u001b[0;34m[\u001b[0m\u001b[0mj\u001b[0m\u001b[0;34m]\u001b[0m \u001b[0;34m=\u001b[0m \u001b[0mself\u001b[0m\u001b[0;34m.\u001b[0m\u001b[0mx0\u001b[0m\u001b[0;34m[\u001b[0m\u001b[0mj\u001b[0m\u001b[0;34m]\u001b[0m \u001b[0;34m+\u001b[0m \u001b[0mself\u001b[0m\u001b[0;34m.\u001b[0m\u001b[0mu\u001b[0m\u001b[0;34m[\u001b[0m\u001b[0mj\u001b[0m\u001b[0;34m]\u001b[0m\u001b[0;34m\u001b[0m\u001b[0;34m\u001b[0m\u001b[0m\n\u001b[0m\u001b[1;32m     77\u001b[0m         \u001b[0;32mreturn\u001b[0m \u001b[0mself\u001b[0m\u001b[0;34m.\u001b[0m\u001b[0mx0\u001b[0m\u001b[0;34m\u001b[0m\u001b[0;34m\u001b[0m\u001b[0m\n\u001b[1;32m     78\u001b[0m \u001b[0;34m\u001b[0m\u001b[0m\n",
      "\u001b[0;31mIndexError\u001b[0m: index 3 is out of bounds for axis 0 with size 3"
     ]
    }
   ],
   "source": [
    "\n",
    "import sympy\n",
    "import numpy\n",
    "import matplotlib.pyplot as plt\n",
    "from sympy import sin, cos, tan, diff, solve\n",
    "\n",
    "class bar:\n",
    "  \n",
    "    def __init__(self,l,E,A,P,n):\n",
    "        self.l = l\n",
    "        self.E = E\n",
    "        self.A = A\n",
    "        self.P = P\n",
    "        self.n = n\n",
    "        \n",
    "    def Calculate_ke(self):\n",
    "        self.le = self.l/self.n\n",
    "        self.ke = numpy.zeros((2,2))                 \n",
    "        self.ke[0,0] = self.E*self.A/self.le\n",
    "        self.ke[0,1] = -self.E*self.A/self.le\n",
    "        self.ke[1,0] = -self.E*self.A/self.le        \n",
    "        self.ke[1,1] =  self.E*self.A/self.le         \n",
    "        return self.ke\n",
    "    \n",
    "    def Calculate_K(self):\n",
    "        self.Calculate_ke()\n",
    "        self.K = numpy.zeros((self.n + 1,self.n + 1))        \n",
    "        # loading Id matrix\n",
    "        Id = numpy.zeros((3,2))           \n",
    "        Id[0,0] = 0;         Id[0,1] = 1 # element 1\n",
    "        Id[1,0] = 1;         Id[1,1] = 2 # element 2\n",
    "        Id[2,0] = 2;         Id[2,1] = 3 # element 3\n",
    "\n",
    "        \n",
    "        for i in range(self.n):\n",
    "            for j in range(2):\n",
    "                for k in range(2):\n",
    "                    # l = Id[i,j]\n",
    "                    # m = Id[i,k]   \n",
    "                     self.K[int(Id[i,j]),int(Id[i,k])] = + self.ke[j,k]  + self.K[int(Id[i,j]),int(Id[i,k])] #\n",
    "\n",
    "        return self.K  \n",
    "    \n",
    "    def Define_Load_Vector(self):\n",
    "        self.F = numpy.zeros(self.n) \n",
    "        self.F[self.n-1] = 2000        \n",
    "        return self.F\n",
    "    \n",
    "    def Calculate_Kred(self):\n",
    "        row_red = 0\n",
    "        self.Id_const = numpy.zeros(self.n + 1)\n",
    "        # if dof is fixed insert 1\n",
    "        Id_const[0] = 1\n",
    "        size_Kred = self.n+1 - numpy.count_nonzero(self.Id_const)\n",
    "        self.Kred = numpy.zeros((size_Kred,size_Kred))   \n",
    "        for i in range(self.n+1):\n",
    "            col_red = 0\n",
    "            for j in range(self.n+1): \n",
    "                if(self.Id_const[i]!=1 and self.Id_const[j]!=1):                    \n",
    "                    self.Kred[row_red,col_red] = self.K[i,j]\n",
    "                if(self.Id_const[j]!=1):  \n",
    "                     col_red = col_red + 1   \n",
    "            if(self.Id_const[i]!=1):                    \n",
    "                     row_red = row_red + 1            \n",
    "        return self.Kred            \n",
    "                \n",
    "    def Solve_System(self):\n",
    "        self.u = numpy.dot(numpy.linalg.inv(self.Kred),self.F)\n",
    "        return self.u\n",
    "\n",
    "    def Update_positions(self):\n",
    "        self.x0 = numpy.zeros(self.n + 1)\n",
    "        self.xupd = numpy.zeros(self.n + 1)\n",
    "        \n",
    "        for j in range(self.n+1): \n",
    "            self.x0[j] = self.le*j\n",
    "            self.xupd[j] = self.x0[j] + self.u[j]\n",
    "        return self.x0     \n",
    "        \n",
    "def main():\n",
    "  bar_1D = bar(3,210e9,0.0003,2000,3)  \n",
    "  bar_1D.Calculate_K()\n",
    "  bar_1D.Define_Load_Vector()    \n",
    "  bar_1D.Calculate_Kred()\n",
    "  bar_1D.Solve_System()\n",
    "  print(bar_1D.Update_positions())\n",
    "if __name__ == '__main__':\n",
    "    main()    "
   ]
  },
  {
   "cell_type": "code",
   "execution_count": null,
   "id": "equal-expression",
   "metadata": {},
   "outputs": [],
   "source": []
  },
  {
   "cell_type": "code",
   "execution_count": null,
   "id": "taken-nylon",
   "metadata": {},
   "outputs": [],
   "source": []
  },
  {
   "cell_type": "code",
   "execution_count": null,
   "id": "useful-westminster",
   "metadata": {},
   "outputs": [],
   "source": []
  },
  {
   "cell_type": "code",
   "execution_count": null,
   "id": "decimal-giant",
   "metadata": {},
   "outputs": [],
   "source": []
  },
  {
   "cell_type": "code",
   "execution_count": null,
   "id": "standing-president",
   "metadata": {},
   "outputs": [],
   "source": []
  },
  {
   "cell_type": "code",
   "execution_count": null,
   "id": "institutional-manufacturer",
   "metadata": {},
   "outputs": [],
   "source": []
  },
  {
   "cell_type": "code",
   "execution_count": null,
   "id": "through-mention",
   "metadata": {},
   "outputs": [],
   "source": []
  },
  {
   "cell_type": "code",
   "execution_count": null,
   "id": "colored-vatican",
   "metadata": {},
   "outputs": [],
   "source": []
  }
 ],
 "metadata": {
  "kernelspec": {
   "display_name": "Python 3",
   "language": "python",
   "name": "python3"
  },
  "language_info": {
   "codemirror_mode": {
    "name": "ipython",
    "version": 3
   },
   "file_extension": ".py",
   "mimetype": "text/x-python",
   "name": "python",
   "nbconvert_exporter": "python",
   "pygments_lexer": "ipython3",
   "version": "3.9.5"
  }
 },
 "nbformat": 4,
 "nbformat_minor": 5
}
